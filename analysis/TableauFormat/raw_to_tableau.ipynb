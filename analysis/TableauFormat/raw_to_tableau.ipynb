{
 "cells": [
  {
   "cell_type": "code",
   "execution_count": 2,
   "metadata": {},
   "outputs": [],
   "source": [
    "import pandas as pd\n",
    "import numpy as np\n",
    "import pandas_profiling\n",
    "import sys, os\n",
    "sys.path.insert(0, os.path.abspath('..'))\n",
    "from scripts import project_functions as sc\n",
    "path = \"C:\\\\Users\\\\matta\\\\Documents\\\\UBCO 20-21\\\\Data 301\\\\group project\\\\course-project-group_6022\\\\data\\\\raw\\\\COVID19 cases Toronto.csv\" #source file\n",
    "dest = \"C:\\\\Users\\matta\\Documents\\\\UBCO 20-21\\\\Data 301\\\\group project\\\\course-project-group_6022\\\\data\\\\processed\\\\Tableau_Toronto_Covid19.csv\" #where you want the csv\n",
    "sc.format_tableau_save_csv(path, dest)\n",
    "#This takes a csv from any location and will format it "
   ]
  }
 ],
 "metadata": {
  "kernelspec": {
   "display_name": "Python 3",
   "language": "python",
   "name": "python3"
  },
  "language_info": {
   "codemirror_mode": {
    "name": "ipython",
    "version": 3
   },
   "file_extension": ".py",
   "mimetype": "text/x-python",
   "name": "python",
   "nbconvert_exporter": "python",
   "pygments_lexer": "ipython3",
   "version": "3.8.5"
  }
 },
 "nbformat": 4,
 "nbformat_minor": 4
}
