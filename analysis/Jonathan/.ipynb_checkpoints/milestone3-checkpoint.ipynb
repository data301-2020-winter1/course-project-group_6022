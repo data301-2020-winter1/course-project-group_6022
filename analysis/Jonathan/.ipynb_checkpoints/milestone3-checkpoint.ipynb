{
 "cells": [
  {
   "cell_type": "code",
   "execution_count": 2,
   "metadata": {},
   "outputs": [
    {
     "data": {
      "text/html": [
       "<div>\n",
       "<style scoped>\n",
       "    .dataframe tbody tr th:only-of-type {\n",
       "        vertical-align: middle;\n",
       "    }\n",
       "\n",
       "    .dataframe tbody tr th {\n",
       "        vertical-align: top;\n",
       "    }\n",
       "\n",
       "    .dataframe thead th {\n",
       "        text-align: right;\n",
       "    }\n",
       "</style>\n",
       "<table border=\"1\" class=\"dataframe\">\n",
       "  <thead>\n",
       "    <tr style=\"text-align: right;\">\n",
       "      <th></th>\n",
       "      <th>Outbreak Associated</th>\n",
       "      <th>Age Group</th>\n",
       "      <th>Neighbourhood Name</th>\n",
       "      <th>FSA</th>\n",
       "      <th>Source of Infection</th>\n",
       "      <th>Episode Date</th>\n",
       "      <th>Reported Date</th>\n",
       "      <th>Gender</th>\n",
       "      <th>Outcome</th>\n",
       "      <th>Currently Hospitalized</th>\n",
       "      <th>Currently in ICU</th>\n",
       "      <th>Currently Intubated</th>\n",
       "      <th>Ever Hospitalized</th>\n",
       "      <th>Ever in ICU</th>\n",
       "      <th>Ever Intubated</th>\n",
       "    </tr>\n",
       "  </thead>\n",
       "  <tbody>\n",
       "    <tr>\n",
       "      <th>0</th>\n",
       "      <td>Sporadic</td>\n",
       "      <td>50-59</td>\n",
       "      <td>Willowdale East</td>\n",
       "      <td>M2N</td>\n",
       "      <td>Travel</td>\n",
       "      <td>2020-01-21</td>\n",
       "      <td>2020-01-23</td>\n",
       "      <td>MALE</td>\n",
       "      <td>RESOLVED</td>\n",
       "      <td>No</td>\n",
       "      <td>No</td>\n",
       "      <td>No</td>\n",
       "      <td>Yes</td>\n",
       "      <td>No</td>\n",
       "      <td>No</td>\n",
       "    </tr>\n",
       "    <tr>\n",
       "      <th>1</th>\n",
       "      <td>Sporadic</td>\n",
       "      <td>50-59</td>\n",
       "      <td>Willowdale East</td>\n",
       "      <td>M2N</td>\n",
       "      <td>Travel</td>\n",
       "      <td>2020-01-22</td>\n",
       "      <td>2020-01-23</td>\n",
       "      <td>FEMALE</td>\n",
       "      <td>RESOLVED</td>\n",
       "      <td>No</td>\n",
       "      <td>No</td>\n",
       "      <td>No</td>\n",
       "      <td>No</td>\n",
       "      <td>No</td>\n",
       "      <td>No</td>\n",
       "    </tr>\n",
       "    <tr>\n",
       "      <th>2</th>\n",
       "      <td>Sporadic</td>\n",
       "      <td>20-29</td>\n",
       "      <td>Parkwoods-Donalda</td>\n",
       "      <td>M3A</td>\n",
       "      <td>Travel</td>\n",
       "      <td>2020-02-05</td>\n",
       "      <td>2020-02-21</td>\n",
       "      <td>FEMALE</td>\n",
       "      <td>RESOLVED</td>\n",
       "      <td>No</td>\n",
       "      <td>No</td>\n",
       "      <td>No</td>\n",
       "      <td>No</td>\n",
       "      <td>No</td>\n",
       "      <td>No</td>\n",
       "    </tr>\n",
       "    <tr>\n",
       "      <th>3</th>\n",
       "      <td>Outbreak Associated</td>\n",
       "      <td>50-59</td>\n",
       "      <td>Moss Park</td>\n",
       "      <td>M5A</td>\n",
       "      <td>N/A - Outbreak associated</td>\n",
       "      <td>2020-02-07</td>\n",
       "      <td>2020-04-13</td>\n",
       "      <td>MALE</td>\n",
       "      <td>RESOLVED</td>\n",
       "      <td>No</td>\n",
       "      <td>No</td>\n",
       "      <td>No</td>\n",
       "      <td>No</td>\n",
       "      <td>No</td>\n",
       "      <td>No</td>\n",
       "    </tr>\n",
       "    <tr>\n",
       "      <th>4</th>\n",
       "      <td>Sporadic</td>\n",
       "      <td>70-79</td>\n",
       "      <td>Don Valley Village</td>\n",
       "      <td>M2J</td>\n",
       "      <td>Travel</td>\n",
       "      <td>2020-02-14</td>\n",
       "      <td>2020-03-01</td>\n",
       "      <td>FEMALE</td>\n",
       "      <td>RESOLVED</td>\n",
       "      <td>No</td>\n",
       "      <td>No</td>\n",
       "      <td>No</td>\n",
       "      <td>No</td>\n",
       "      <td>No</td>\n",
       "      <td>No</td>\n",
       "    </tr>\n",
       "    <tr>\n",
       "      <th>...</th>\n",
       "      <td>...</td>\n",
       "      <td>...</td>\n",
       "      <td>...</td>\n",
       "      <td>...</td>\n",
       "      <td>...</td>\n",
       "      <td>...</td>\n",
       "      <td>...</td>\n",
       "      <td>...</td>\n",
       "      <td>...</td>\n",
       "      <td>...</td>\n",
       "      <td>...</td>\n",
       "      <td>...</td>\n",
       "      <td>...</td>\n",
       "      <td>...</td>\n",
       "      <td>...</td>\n",
       "    </tr>\n",
       "    <tr>\n",
       "      <th>13212</th>\n",
       "      <td>Sporadic</td>\n",
       "      <td>60-69</td>\n",
       "      <td>Henry Farm</td>\n",
       "      <td>M2J</td>\n",
       "      <td>Close contact</td>\n",
       "      <td>2020-07-12</td>\n",
       "      <td>2020-06-28</td>\n",
       "      <td>FEMALE</td>\n",
       "      <td>RESOLVED</td>\n",
       "      <td>No</td>\n",
       "      <td>No</td>\n",
       "      <td>No</td>\n",
       "      <td>No</td>\n",
       "      <td>No</td>\n",
       "      <td>No</td>\n",
       "    </tr>\n",
       "    <tr>\n",
       "      <th>13213</th>\n",
       "      <td>Sporadic</td>\n",
       "      <td>19 and younger</td>\n",
       "      <td>Maple Leaf</td>\n",
       "      <td>M6L</td>\n",
       "      <td>Close contact</td>\n",
       "      <td>2020-07-12</td>\n",
       "      <td>2020-07-12</td>\n",
       "      <td>FEMALE</td>\n",
       "      <td>ACTIVE</td>\n",
       "      <td>No</td>\n",
       "      <td>No</td>\n",
       "      <td>No</td>\n",
       "      <td>No</td>\n",
       "      <td>No</td>\n",
       "      <td>No</td>\n",
       "    </tr>\n",
       "    <tr>\n",
       "      <th>13214</th>\n",
       "      <td>Sporadic</td>\n",
       "      <td>30-39</td>\n",
       "      <td>L'Amoreaux</td>\n",
       "      <td>M1W</td>\n",
       "      <td>Close contact</td>\n",
       "      <td>2020-07-12</td>\n",
       "      <td>2020-07-12</td>\n",
       "      <td>MALE</td>\n",
       "      <td>ACTIVE</td>\n",
       "      <td>No</td>\n",
       "      <td>No</td>\n",
       "      <td>No</td>\n",
       "      <td>No</td>\n",
       "      <td>No</td>\n",
       "      <td>No</td>\n",
       "    </tr>\n",
       "    <tr>\n",
       "      <th>13215</th>\n",
       "      <td>Sporadic</td>\n",
       "      <td>30-39</td>\n",
       "      <td>Thistletown-Beaumond Heights</td>\n",
       "      <td>M9V</td>\n",
       "      <td>Travel</td>\n",
       "      <td>2020-07-12</td>\n",
       "      <td>2020-07-12</td>\n",
       "      <td>MALE</td>\n",
       "      <td>ACTIVE</td>\n",
       "      <td>No</td>\n",
       "      <td>No</td>\n",
       "      <td>No</td>\n",
       "      <td>No</td>\n",
       "      <td>No</td>\n",
       "      <td>No</td>\n",
       "    </tr>\n",
       "    <tr>\n",
       "      <th>13216</th>\n",
       "      <td>Sporadic</td>\n",
       "      <td>50-59</td>\n",
       "      <td>Tam O'Shanter-Sullivan</td>\n",
       "      <td>M1T</td>\n",
       "      <td>Unknown/Missing</td>\n",
       "      <td>2020-07-13</td>\n",
       "      <td>2020-07-13</td>\n",
       "      <td>FEMALE</td>\n",
       "      <td>ACTIVE</td>\n",
       "      <td>No</td>\n",
       "      <td>No</td>\n",
       "      <td>No</td>\n",
       "      <td>No</td>\n",
       "      <td>No</td>\n",
       "      <td>No</td>\n",
       "    </tr>\n",
       "  </tbody>\n",
       "</table>\n",
       "<p>13217 rows × 15 columns</p>\n",
       "</div>"
      ],
      "text/plain": [
       "       Outbreak Associated       Age Group            Neighbourhood Name  FSA  \\\n",
       "0                 Sporadic           50-59               Willowdale East  M2N   \n",
       "1                 Sporadic           50-59               Willowdale East  M2N   \n",
       "2                 Sporadic           20-29             Parkwoods-Donalda  M3A   \n",
       "3      Outbreak Associated           50-59                     Moss Park  M5A   \n",
       "4                 Sporadic           70-79            Don Valley Village  M2J   \n",
       "...                    ...             ...                           ...  ...   \n",
       "13212             Sporadic           60-69                    Henry Farm  M2J   \n",
       "13213             Sporadic  19 and younger                    Maple Leaf  M6L   \n",
       "13214             Sporadic           30-39                    L'Amoreaux  M1W   \n",
       "13215             Sporadic           30-39  Thistletown-Beaumond Heights  M9V   \n",
       "13216             Sporadic           50-59        Tam O'Shanter-Sullivan  M1T   \n",
       "\n",
       "             Source of Infection Episode Date Reported Date  Gender   Outcome  \\\n",
       "0                         Travel   2020-01-21    2020-01-23    MALE  RESOLVED   \n",
       "1                         Travel   2020-01-22    2020-01-23  FEMALE  RESOLVED   \n",
       "2                         Travel   2020-02-05    2020-02-21  FEMALE  RESOLVED   \n",
       "3      N/A - Outbreak associated   2020-02-07    2020-04-13    MALE  RESOLVED   \n",
       "4                         Travel   2020-02-14    2020-03-01  FEMALE  RESOLVED   \n",
       "...                          ...          ...           ...     ...       ...   \n",
       "13212              Close contact   2020-07-12    2020-06-28  FEMALE  RESOLVED   \n",
       "13213              Close contact   2020-07-12    2020-07-12  FEMALE    ACTIVE   \n",
       "13214              Close contact   2020-07-12    2020-07-12    MALE    ACTIVE   \n",
       "13215                     Travel   2020-07-12    2020-07-12    MALE    ACTIVE   \n",
       "13216            Unknown/Missing   2020-07-13    2020-07-13  FEMALE    ACTIVE   \n",
       "\n",
       "      Currently Hospitalized Currently in ICU Currently Intubated  \\\n",
       "0                         No               No                  No   \n",
       "1                         No               No                  No   \n",
       "2                         No               No                  No   \n",
       "3                         No               No                  No   \n",
       "4                         No               No                  No   \n",
       "...                      ...              ...                 ...   \n",
       "13212                     No               No                  No   \n",
       "13213                     No               No                  No   \n",
       "13214                     No               No                  No   \n",
       "13215                     No               No                  No   \n",
       "13216                     No               No                  No   \n",
       "\n",
       "      Ever Hospitalized Ever in ICU Ever Intubated  \n",
       "0                   Yes          No             No  \n",
       "1                    No          No             No  \n",
       "2                    No          No             No  \n",
       "3                    No          No             No  \n",
       "4                    No          No             No  \n",
       "...                 ...         ...            ...  \n",
       "13212                No          No             No  \n",
       "13213                No          No             No  \n",
       "13214                No          No             No  \n",
       "13215                No          No             No  \n",
       "13216                No          No             No  \n",
       "\n",
       "[13217 rows x 15 columns]"
      ]
     },
     "execution_count": 2,
     "metadata": {},
     "output_type": "execute_result"
    }
   ],
   "source": [
    "import pandas as pd\n",
    "import numpy as np\n",
    "import pandas_profiling\n",
    "import seaborn as sns\n",
    "from matplotlib import pyplot as plt\n",
    "import sys, os\n",
    "sys.path.insert(0, os.path.abspath('..'))\n",
    "path = \"\\\\analysis\\\\Jonathan\"\n",
    "from scripts import project_functions as sc\n",
    "df = sc.load_and_process(path)\n",
    "df"
   ]
  },
  {
   "cell_type": "code",
   "execution_count": 3,
   "metadata": {},
   "outputs": [
    {
     "data": {
      "text/html": [
       "<div>\n",
       "<style scoped>\n",
       "    .dataframe tbody tr th:only-of-type {\n",
       "        vertical-align: middle;\n",
       "    }\n",
       "\n",
       "    .dataframe tbody tr th {\n",
       "        vertical-align: top;\n",
       "    }\n",
       "\n",
       "    .dataframe thead th {\n",
       "        text-align: right;\n",
       "    }\n",
       "</style>\n",
       "<table border=\"1\" class=\"dataframe\">\n",
       "  <thead>\n",
       "    <tr style=\"text-align: right;\">\n",
       "      <th></th>\n",
       "      <th>FSA</th>\n",
       "      <th>Episode Date</th>\n",
       "      <th>Reported Date</th>\n",
       "    </tr>\n",
       "    <tr>\n",
       "      <th>Neighbourhood Name</th>\n",
       "      <th></th>\n",
       "      <th></th>\n",
       "      <th></th>\n",
       "    </tr>\n",
       "  </thead>\n",
       "  <tbody>\n",
       "    <tr>\n",
       "      <th>Agincourt North</th>\n",
       "      <td>72</td>\n",
       "      <td>72</td>\n",
       "      <td>72</td>\n",
       "    </tr>\n",
       "    <tr>\n",
       "      <th>Agincourt South-Malvern West</th>\n",
       "      <td>46</td>\n",
       "      <td>46</td>\n",
       "      <td>46</td>\n",
       "    </tr>\n",
       "    <tr>\n",
       "      <th>Alderwood</th>\n",
       "      <td>38</td>\n",
       "      <td>38</td>\n",
       "      <td>38</td>\n",
       "    </tr>\n",
       "    <tr>\n",
       "      <th>Annex</th>\n",
       "      <td>70</td>\n",
       "      <td>70</td>\n",
       "      <td>70</td>\n",
       "    </tr>\n",
       "    <tr>\n",
       "      <th>Banbury-Don Mills</th>\n",
       "      <td>34</td>\n",
       "      <td>34</td>\n",
       "      <td>34</td>\n",
       "    </tr>\n",
       "    <tr>\n",
       "      <th>...</th>\n",
       "      <td>...</td>\n",
       "      <td>...</td>\n",
       "      <td>...</td>\n",
       "    </tr>\n",
       "    <tr>\n",
       "      <th>Wychwood</th>\n",
       "      <td>75</td>\n",
       "      <td>75</td>\n",
       "      <td>75</td>\n",
       "    </tr>\n",
       "    <tr>\n",
       "      <th>Yonge-Eglinton</th>\n",
       "      <td>13</td>\n",
       "      <td>13</td>\n",
       "      <td>13</td>\n",
       "    </tr>\n",
       "    <tr>\n",
       "      <th>Yonge-St.Clair</th>\n",
       "      <td>24</td>\n",
       "      <td>24</td>\n",
       "      <td>24</td>\n",
       "    </tr>\n",
       "    <tr>\n",
       "      <th>York University Heights</th>\n",
       "      <td>398</td>\n",
       "      <td>398</td>\n",
       "      <td>398</td>\n",
       "    </tr>\n",
       "    <tr>\n",
       "      <th>Yorkdale-Glen Park</th>\n",
       "      <td>187</td>\n",
       "      <td>187</td>\n",
       "      <td>187</td>\n",
       "    </tr>\n",
       "  </tbody>\n",
       "</table>\n",
       "<p>140 rows × 3 columns</p>\n",
       "</div>"
      ],
      "text/plain": [
       "                              FSA  Episode Date  Reported Date\n",
       "Neighbourhood Name                                            \n",
       "Agincourt North                72            72             72\n",
       "Agincourt South-Malvern West   46            46             46\n",
       "Alderwood                      38            38             38\n",
       "Annex                          70            70             70\n",
       "Banbury-Don Mills              34            34             34\n",
       "...                           ...           ...            ...\n",
       "Wychwood                       75            75             75\n",
       "Yonge-Eglinton                 13            13             13\n",
       "Yonge-St.Clair                 24            24             24\n",
       "York University Heights       398           398            398\n",
       "Yorkdale-Glen Park            187           187            187\n",
       "\n",
       "[140 rows x 3 columns]"
      ]
     },
     "execution_count": 3,
     "metadata": {},
     "output_type": "execute_result"
    }
   ],
   "source": [
    "db = df.set_index([\"Neighbourhood Name\", \"Outbreak Associated\"]).count(level=\"Neighbourhood Name\")\n",
    "db = db.drop(['Age Group','Source of Infection', 'Gender', 'Outcome','Currently Hospitalized','Currently in ICU','Currently Intubated','Ever Hospitalized','Ever in ICU','Ever Intubated'],axis=1)\n",
    "db.to_csv()\n",
    "db\n",
    "#lat = [[43.80682993417276, -79.19256010124776]],[43.787350204910574, -79.1598030501702],[43.76899947866263, -79.18221627975953]]\n",
    "#lat"
   ]
  },
  {
   "cell_type": "code",
   "execution_count": 9,
   "metadata": {},
   "outputs": [
    {
     "data": {
      "text/plain": [
       "\"\\nimport geocoder \\ng = geocoder.google('Agincourt North')\\ng.latlng\\n\""
      ]
     },
     "execution_count": 9,
     "metadata": {},
     "output_type": "execute_result"
    }
   ],
   "source": [
    "\"\"\"\n",
    "import geocoder \n",
    "g = geocoder.google('Agincourt North')\n",
    "g.latlng\n",
    "\"\"\"\n",
    "#data = pd.read_csv(\"D:\\\\Work\\\\DATA301\\\\course-project-group_6022\\\\data\\\\raw\\\\neighbourhood-profiles-2016-csv.csv\")\n",
    "#data"
   ]
  },
  {
   "cell_type": "code",
   "execution_count": 30,
   "metadata": {},
   "outputs": [
    {
     "data": {
      "text/plain": [
       "<AxesSubplot:xlabel='Age Group', ylabel='count'>"
      ]
     },
     "execution_count": 30,
     "metadata": {},
     "output_type": "execute_result"
    },
    {
     "data": {
      "image/png": "[encoded data removed]",
      "text/plain": [
       "<Figure size 720x360 with 1 Axes>"
      ]
     },
     "metadata": {
      "needs_background": "light"
     },
     "output_type": "display_data"
    }
   ],
   "source": [
    "df = sc.load_and_process(path)\n",
    "plt.figure(figsize=(10,5))\n",
    "plt.xticks(rotation=90)\n",
    "sns.countplot(x= 'Age Group',hue = 'Outcome', data=df,palette = 'viridis_r' )"
   ]
  },
  {
   "cell_type": "code",
   "execution_count": 31,
   "metadata": {},
   "outputs": [
    {
     "data": {
      "text/plain": [
       "<AxesSubplot:xlabel='Gender', ylabel='count'>"
      ]
     },
     "execution_count": 31,
     "metadata": {},
     "output_type": "execute_result"
    },
    {
     "data": {
      "image/png": "[encoded data removed]",
      "text/plain": [
       "<Figure size 720x360 with 1 Axes>"
      ]
     },
     "metadata": {
      "needs_background": "light"
     },
     "output_type": "display_data"
    }
   ],
   "source": [
    "plt.figure(figsize=(10,5))\n",
    "plt.xticks(rotation=90)\n",
    "sns.countplot(x= 'Gender',hue = 'Outcome', data=df,palette = 'viridis_r' )\n",
    "#to-do: trim data into  two sets of male/female and display age buckets vs outcome for each"
   ]
  },
  {
   "cell_type": "code",
   "execution_count": 32,
   "metadata": {},
   "outputs": [
    {
     "data": {
      "text/plain": [
       "'\\nClassification Countplot\\nMassive percentage of 19> people are not confirmed cases\\n?unreliability of tests on younger people?\\n?lack of symptoms in younger people?\\n'"
      ]
     },
     "execution_count": 32,
     "metadata": {},
     "output_type": "execute_result"
    },
    {
     "data": {
      "image/png": "[encoded data removed]",
      "text/plain": [
       "<Figure size 720x360 with 1 Axes>"
      ]
     },
     "metadata": {
      "needs_background": "light"
     },
     "output_type": "display_data"
    }
   ],
   "source": [
    "df = pd.read_csv(sc.autopath(path))#need raw data to account for all potential cases\n",
    "plt.figure(figsize=(10,5))\n",
    "plt.xticks(rotation=90)\n",
    "sns.countplot(x= 'Age Group',hue = 'Classification',data = df, palette = 'viridis_r' )\n",
    "\"\"\"\n",
    "Classification Countplot\n",
    "Massive percentage of 19> people are not confirmed cases\n",
    "?unreliability of tests on younger people?\n",
    "?lack of symptoms in younger people?\n",
    "\"\"\""
   ]
  },
  {
   "cell_type": "code",
   "execution_count": 33,
   "metadata": {},
   "outputs": [
    {
     "data": {
      "text/plain": [
       "'\\nHospitalized Countplot\\nMajority of infections never hospitalized\\nMuch higher percentage of elderly are hospitalized\\n'"
      ]
     },
     "execution_count": 33,
     "metadata": {},
     "output_type": "execute_result"
    },
    {
     "data": {
      "image/png": "[encoded data removed]",
      "text/plain": [
       "<Figure size 720x360 with 1 Axes>"
      ]
     },
     "metadata": {
      "needs_background": "light"
     },
     "output_type": "display_data"
    }
   ],
   "source": [
    "df = sc.load_and_process(path)\n",
    "plt.figure(figsize=(10,5))\n",
    "plt.xticks(rotation=90)\n",
    "sns.countplot(x= 'Age Group',hue = 'Ever Hospitalized',data = df, palette = 'viridis_r' )\n",
    "\"\"\"\n",
    "Hospitalized Countplot\n",
    "Majority of infections never hospitalized\n",
    "Much higher percentage of elderly are hospitalized\n",
    "\"\"\""
   ]
  },
  {
   "cell_type": "code",
   "execution_count": 34,
   "metadata": {},
   "outputs": [
    {
     "data": {
      "text/plain": [
       "'\\nICU Countplot for those that are hospitalized\\n'"
      ]
     },
     "execution_count": 34,
     "metadata": {},
     "output_type": "execute_result"
    },
    {
     "data": {
      "image/png": "[encoded data removed]",
      "text/plain": [
       "<Figure size 720x360 with 1 Axes>"
      ]
     },
     "metadata": {
      "needs_background": "light"
     },
     "output_type": "display_data"
    }
   ],
   "source": [
    "plt.figure(figsize=(10,5))\n",
    "plt.xticks(rotation=90)\n",
    "sns.countplot(x= 'Age Group',hue = 'Ever in ICU',data = df[df[\"Ever Hospitalized\"] == \"Yes\"], palette = 'viridis_r' )\n",
    "\"\"\"\n",
    "ICU Countplot for those that are hospitalized\n",
    "\"\"\""
   ]
  },
  {
   "cell_type": "code",
   "execution_count": 35,
   "metadata": {},
   "outputs": [
    {
     "data": {
      "text/plain": [
       "'\\nIntubation Countplot\\nIntubation chart indicates that any infected that are admitted into the ICU are also intubated\\n**Need to trim out FALSE values**\\n'"
      ]
     },
     "execution_count": 35,
     "metadata": {},
     "output_type": "execute_result"
    },
    {
     "data": {
      "image/png": "[encoded data removed]",
      "text/plain": [
       "<Figure size 720x360 with 1 Axes>"
      ]
     },
     "metadata": {
      "needs_background": "light"
     },
     "output_type": "display_data"
    }
   ],
   "source": [
    "plt.figure(figsize=(10,5))\n",
    "plt.xticks(rotation=90)\n",
    "sns.countplot(x= 'Age Group',hue = 'Ever Intubated',data = df[df[\"Ever in ICU\"] == \"Yes\"], palette = 'viridis_r' )\n",
    "\"\"\"\n",
    "Intubation Countplot\n",
    "Intubation chart indicates that any infected that are admitted into the ICU are also intubated\n",
    "**Need to trim out FALSE values**\n",
    "\"\"\""
   ]
  },
  {
   "cell_type": "code",
   "execution_count": 10,
   "metadata": {},
   "outputs": [],
   "source": [
    "#heatmap needs neighbourhoood convert to long/lat -> mapped over time buckets"
   ]
  },
  {
   "cell_type": "code",
   "execution_count": null,
   "metadata": {},
   "outputs": [],
   "source": []
  }
 ],
 "metadata": {
  "kernelspec": {
   "display_name": "Python 3",
   "language": "python",
   "name": "python3"
  },
  "language_info": {
   "codemirror_mode": {
    "name": "ipython",
    "version": 3
   },
   "file_extension": ".py",
   "mimetype": "text/x-python",
   "name": "python",
   "nbconvert_exporter": "python",
   "pygments_lexer": "ipython3",
   "version": "3.8.3"
  }
 },
 "nbformat": 4,
 "nbformat_minor": 4
}
