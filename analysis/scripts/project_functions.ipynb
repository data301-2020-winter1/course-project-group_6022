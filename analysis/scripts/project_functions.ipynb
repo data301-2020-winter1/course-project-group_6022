{
 "cells": [
  {
   "cell_type": "code",
   "execution_count": 249,
   "metadata": {},
   "outputs": [],
   "source": [
    "import pandas as pd\n",
    "import numpy as np\n",
    "\n",
    "def load_and_process(url_or_path_to_csv_file):\n",
    "\n",
    "    df1 = (\n",
    "        #Rename and sort by Episode date, reported date, and then age group.\n",
    "        pd.read_csv(url_or_path_to_csv_file)\n",
    "        .rename(columns={\"Client Gender\" : \"Sex\"})\n",
    "        .sort_values(['Episode Date','Reported Date',\"Age Group\"], ascending = [1,1,1])\n",
    "    )\n",
    "\n",
    "    df2 = (\n",
    "        #Drop NA, _id, and rows that do not have confirmed as a case\n",
    "        df1\n",
    "        .dropna()\n",
    "        .drop('_id', axis = 1)\n",
    "        .loc[df[\"Classification\"].str.contains(\"CONFIRMED\")]\n",
    "        .drop('Classification', axis = 1) #We don't need this column anymore, since we are working soley with confirmed cases.\n",
    "        .reset_index(drop = True)   \n",
    "    )\n",
    "    \n",
    "    return df2\n"
   ]
  },
  {
   "cell_type": "code",
   "execution_count": null,
   "metadata": {},
   "outputs": [],
   "source": []
  }
 ],
 "metadata": {
  "kernelspec": {
   "display_name": "Python 3",
   "language": "python",
   "name": "python3"
  },
  "language_info": {
   "codemirror_mode": {
    "name": "ipython",
    "version": 3
   },
   "file_extension": ".py",
   "mimetype": "text/x-python",
   "name": "python",
   "nbconvert_exporter": "python",
   "pygments_lexer": "ipython3",
   "version": "3.8.5"
  }
 },
 "nbformat": 4,
 "nbformat_minor": 4
}
